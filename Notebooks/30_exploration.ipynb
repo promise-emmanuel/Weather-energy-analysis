{
 "cells": [
  {
   "cell_type": "code",
   "execution_count": 43,
   "id": "578a180b",
   "metadata": {},
   "outputs": [],
   "source": [
    "import pandas as pd\n",
    "import datetime\n",
    "\n",
    "def missing_values(csv):\n",
    "    df = pd.read_csv(csv)\n",
    "    # grouped_df = df.groupby([\"city\"])\n",
    "    return df[df.isna().any(axis=1)]\n",
    "\n"
   ]
  },
  {
   "cell_type": "markdown",
   "id": "70466a3c",
   "metadata": {},
   "source": [
    "How many missing values we have and where\n"
   ]
  },
  {
   "cell_type": "code",
   "execution_count": 44,
   "id": "d5bb2bc3",
   "metadata": {},
   "outputs": [
    {
     "name": "stdout",
     "output_type": "stream",
     "text": [
      "           date     city       state   TMAX  TMIN  \\\n",
      "771  2025-08-03  Phoenix     Arizona  112.0  84.0   \n",
      "772  2025-08-03  Seattle  Washington  150.0   NaN   \n",
      "\n",
      "                    respondent-name  timezone    value-units  Demand  \\\n",
      "771  Arizona Public Service Company  Mountain  megawatthours     NaN   \n",
      "772              Seattle City Light   Pacific  megawatthours     NaN   \n",
      "\n",
      "     Net generation  \n",
      "771         78982.0  \n",
      "772          7357.0  \n",
      "Missing Value Count: 2\n"
     ]
    }
   ],
   "source": [
    "response = missing_values(\"../data/processed/weather_energy_data.csv\")\n",
    "print(response)\n",
    "print(f\"Missing Value Count: {len(response)}\")"
   ]
  },
  {
   "cell_type": "markdown",
   "id": "7ba0fae9",
   "metadata": {},
   "source": [
    "Any outliers (temperatures above 130°F or below -50°F, negative energy consumption)\n"
   ]
  },
  {
   "cell_type": "code",
   "execution_count": 45,
   "id": "faf77fe7",
   "metadata": {},
   "outputs": [
    {
     "data": {
      "text/html": [
       "<div>\n",
       "<style scoped>\n",
       "    .dataframe tbody tr th:only-of-type {\n",
       "        vertical-align: middle;\n",
       "    }\n",
       "\n",
       "    .dataframe tbody tr th {\n",
       "        vertical-align: top;\n",
       "    }\n",
       "\n",
       "    .dataframe thead th {\n",
       "        text-align: right;\n",
       "    }\n",
       "</style>\n",
       "<table border=\"1\" class=\"dataframe\">\n",
       "  <thead>\n",
       "    <tr style=\"text-align: right;\">\n",
       "      <th></th>\n",
       "      <th>date</th>\n",
       "      <th>city</th>\n",
       "      <th>state</th>\n",
       "      <th>TMAX</th>\n",
       "      <th>TMIN</th>\n",
       "      <th>respondent-name</th>\n",
       "      <th>timezone</th>\n",
       "      <th>value-units</th>\n",
       "      <th>Demand</th>\n",
       "      <th>Net generation</th>\n",
       "    </tr>\n",
       "  </thead>\n",
       "  <tbody>\n",
       "    <tr>\n",
       "      <th>0</th>\n",
       "      <td>2025-03-01</td>\n",
       "      <td>Chicago</td>\n",
       "      <td>Illinois</td>\n",
       "      <td>34.0</td>\n",
       "      <td>22.0</td>\n",
       "      <td>PJM Interconnection, LLC</td>\n",
       "      <td>Eastern</td>\n",
       "      <td>megawatthours</td>\n",
       "      <td>2110785.0</td>\n",
       "      <td>2206107.0</td>\n",
       "    </tr>\n",
       "  </tbody>\n",
       "</table>\n",
       "</div>"
      ],
      "text/plain": [
       "         date     city     state  TMAX  TMIN           respondent-name  \\\n",
       "0  2025-03-01  Chicago  Illinois  34.0  22.0  PJM Interconnection, LLC   \n",
       "\n",
       "  timezone    value-units     Demand  Net generation  \n",
       "0  Eastern  megawatthours  2110785.0       2206107.0  "
      ]
     },
     "execution_count": 45,
     "metadata": {},
     "output_type": "execute_result"
    }
   ],
   "source": [
    "df = pd.read_csv(\"../data/processed/weather_energy_data.csv\")\n",
    "df.head(1)"
   ]
  },
  {
   "cell_type": "code",
   "execution_count": 46,
   "id": "c35e50a0",
   "metadata": {},
   "outputs": [],
   "source": [
    "#filter weather report and let it return specific columns\n",
    "filtered_df = df[(df[\"TMAX\"]>130.0) | (df[\"TMIN\"]<-50.0)]\n",
    "bad_weather = filtered_df[[\"date\", \"city\", \"state\", \"TMAX\", \"TMIN\"]]\n",
    "\n",
    "# display result\n",
    "# print(bad_weather)"
   ]
  },
  {
   "cell_type": "code",
   "execution_count": 47,
   "metadata": {},
   "outputs": [],
   "source": [
    "#filter energy and return specific column\n",
    "bad_energy = df[df[\"Demand\"]<0][[\"date\", \"city\", \"state\", \"Demand\", \"value-units\", \"Net generation\"]]\n",
    "\n",
    "# display result\n",
    "# print(bad_energy)"
   ]
  },
  {
   "cell_type": "code",
   "execution_count": 48,
   "id": "4c187d61",
   "metadata": {},
   "outputs": [
    {
     "name": "stdout",
     "output_type": "stream",
     "text": [
      "         date     city       state   TMAX  TMIN  Demand value-units  \\\n",
      "0  2025-08-03  Houston       Texas   98.0 -78.0     NaN         NaN   \n",
      "1  2025-08-03  Seattle  Washington  150.0   NaN     NaN         NaN   \n",
      "\n",
      "   Net generation  \n",
      "0             NaN  \n",
      "1             NaN  \n"
     ]
    }
   ],
   "source": [
    "if not bad_weather.empty  or not bad_energy.empty:\n",
    "    print(pd.concat([bad_weather, bad_energy], axis=0, ignore_index=True))\n",
    "else:\n",
    "    print(f\"No outliers detected\")\n"
   ]
  },
  {
   "cell_type": "markdown",
   "id": "1eda46dd",
   "metadata": {},
   "source": [
    "reporting city freshness"
   ]
  },
  {
   "cell_type": "code",
   "execution_count": 49,
   "id": "53cd50ec",
   "metadata": {},
   "outputs": [],
   "source": [
    "import pandas as pd\n",
    "import datetime\n",
    "\n",
    "def report_city_freshness(csv_path, date_col=\"date\", city_col=\"city\"):\n",
    "    # 1) Load and normalize\n",
    "    df = pd.read_csv(csv_path) #header=None,\n",
    "                    #  names=[date_col, \"datatype\", \"station\", \"attrs\", \"value\", city_col, \"state\"])\n",
    "    # e.g. if your CSV has no header, adjust `names=` above\n",
    "\n",
    "    # 2) Parse date and keep just the date part\n",
    "    df[date_col] = pd.to_datetime(df[date_col]).dt.date\n",
    "\n",
    "    today = datetime.date.today()\n",
    "\n",
    "    reports = []\n",
    "    # 3) For each city\n",
    "    for city, grp in df.groupby(city_col):\n",
    "\n",
    "        last_date = grp[date_col].max()\n",
    "        if last_date < today:\n",
    "            # 4) Missing range: day after last_date up to yesterday\n",
    "            start_missing = last_date + datetime.timedelta(days=1)\n",
    "            end_missing   = today #- datetime.timedelta(days=1)\n",
    "            reports.append(\n",
    "                f\"{city} is missing data from {start_missing.isoformat()} to {end_missing.isoformat()}\"\n",
    "            )\n",
    "        else:\n",
    "            reports.append(f\"{city} is up-to-date (has {last_date.isoformat()})\")\n",
    "    return reports\n",
    "\n"
   ]
  },
  {
   "cell_type": "code",
   "execution_count": 50,
   "id": "81f50e2d",
   "metadata": {},
   "outputs": [],
   "source": [
    "input_path = \"../data/processed/weather_energy_data.csv\"\n",
    "response = report_city_freshness(input_path)"
   ]
  },
  {
   "cell_type": "code",
   "execution_count": 51,
   "id": "5d3ed8e6",
   "metadata": {},
   "outputs": [
    {
     "name": "stdout",
     "output_type": "stream",
     "text": [
      "['Chicago is missing data from 2025-08-03 to 2025-08-05', 'Houston is missing data from 2025-08-04 to 2025-08-05', 'New York is missing data from 2025-08-03 to 2025-08-05', 'Phoenix is missing data from 2025-08-04 to 2025-08-05', 'Seattle is missing data from 2025-08-04 to 2025-08-05']\n"
     ]
    }
   ],
   "source": [
    "print(response)"
   ]
  },
  {
   "cell_type": "code",
   "execution_count": null,
   "id": "95de709e",
   "metadata": {},
   "outputs": [],
   "source": []
  }
 ],
 "metadata": {
  "kernelspec": {
   "display_name": "project1-energy-analysis (3.12.10)",
   "language": "python",
   "name": "python3"
  },
  "language_info": {
   "codemirror_mode": {
    "name": "ipython",
    "version": 3
   },
   "file_extension": ".py",
   "mimetype": "text/x-python",
   "name": "python",
   "nbconvert_exporter": "python",
   "pygments_lexer": "ipython3",
   "version": "3.12.10"
  }
 },
 "nbformat": 4,
 "nbformat_minor": 5
}
