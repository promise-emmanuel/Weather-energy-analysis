{
 "cells": [
  {
   "cell_type": "code",
   "execution_count": 1,
   "id": "46c2a00b",
   "metadata": {},
   "outputs": [],
   "source": [
    "%load_ext autoreload\n",
    "%autoreload 2\n",
    "%load_ext dotenv\n",
    "%dotenv"
   ]
  },
  {
   "cell_type": "code",
   "execution_count": 2,
   "id": "b25037b8",
   "metadata": {},
   "outputs": [],
   "source": [
    "from dotenv import load_dotenv\n",
    "import os\n",
    "import pandas as pd\n",
    "import yaml, json, time\n",
    "from src.data_fetcher import (\n",
    "    fetch_weather_data,\n",
    "    fetch_energy_data,\n",
    ")\n",
    "\n"
   ]
  },
  {
   "cell_type": "code",
   "execution_count": 3,
   "id": "53ead741",
   "metadata": {},
   "outputs": [
    {
     "name": "stdout",
     "output_type": "stream",
     "text": [
      "Token retrieved successfully\n"
     ]
    }
   ],
   "source": [
    "load_dotenv()          # Load environment variables from .env file  \n",
    "\n",
    "token = os.environ.get(\"NAOO_TOKEN\")\n",
    "eia_token = os.environ.get(\"EIA_KEY\")\n",
    "\n",
    "if token is None or eia_token is None:\n",
    "    print(\"Error retrieving token\") \n",
    "else:\n",
    "    print(\"Token retrieved successfully\")"
   ]
  },
  {
   "cell_type": "code",
   "execution_count": 4,
   "id": "a831748a",
   "metadata": {},
   "outputs": [
    {
     "name": "stdout",
     "output_type": "stream",
     "text": [
      "[{'city': 'New York', 'state': 'New York', 'station': 'GHCND:USW00094728', 'region': 'NYIS', 'timezone': 'Eastern'}, {'city': 'Chicago', 'state': 'Illinois', 'station': 'GHCND:USW00094846', 'region': 'PJM', 'timezone': 'Eastern'}, {'city': 'Houston', 'state': 'Texas', 'station': 'GHCND:USW00012960', 'region': 'ERCO', 'timezone': 'Central'}, {'city': 'Phoenix', 'state': 'Arizona', 'station': 'GHCND:USW00023183', 'region': 'AZPS', 'timezone': 'Mountain'}, {'city': 'Seattle', 'state': 'Washington', 'station': 'GHCND:USW00024233', 'region': 'SCL', 'timezone': 'Pacific'}]\n"
     ]
    }
   ],
   "source": [
    "\n",
    "\n",
    "with open(\"../config/config.yaml\") as f:\n",
    "    data = yaml.safe_load(f)\n",
    "\n",
    "cities_list = data[\"cities\"]\n",
    "\n",
    "print(cities_list)"
   ]
  },
  {
   "cell_type": "code",
   "execution_count": 5,
   "id": "0cf0e9d3",
   "metadata": {},
   "outputs": [
    {
     "name": "stdout",
     "output_type": "stream",
     "text": [
      "Fetching data for New York...\n",
      "Saved 294 rows for New York. Sleeping for 10 Seconds…\n",
      "\n",
      "--------------------------------------------------\n",
      "Fetching data for Chicago...\n",
      "Saved 294 rows for Chicago. Sleeping for 10 Seconds…\n",
      "\n",
      "--------------------------------------------------\n",
      "Fetching data for Houston...\n",
      "Saved 296 rows for Houston. Sleeping for 10 Seconds…\n",
      "\n",
      "--------------------------------------------------\n",
      "Fetching data for Phoenix...\n",
      "Saved 296 rows for Phoenix. Sleeping for 10 Seconds…\n",
      "\n",
      "--------------------------------------------------\n",
      "Fetching data for Seattle...\n",
      "Saved 296 rows for Seattle. Sleeping for 10 Seconds…\n",
      "\n",
      "--------------------------------------------------\n"
     ]
    }
   ],
   "source": [
    "output_file = \"../data/raw/all_weather.csv\"\n",
    "first = True    #write header only for the first file\n",
    "\n",
    "for city in cities_list:\n",
    "    print(f\"Fetching data for {city[\"city\"]}...\")\n",
    "    \n",
    "    result = fetch_weather_data(city[\"station\"], \"2025-03-01\", \"2025-07-26\")\n",
    "    df = pd.DataFrame(result[\"results\"])\n",
    "    df[\"city\"] = city[\"city\"]\n",
    "    df[\"state\"] = city[\"state\"]\n",
    "    \n",
    "    # Write to CSV with mode (w) at the first loop, then (a) for subsequent loops\n",
    "    df.to_csv(output_file,\n",
    "              mode = \"w\" if first else \"a\",\n",
    "              header = first,\n",
    "              index = False)\n",
    "    first = False\n",
    "    \n",
    "    print(f\"Saved {len(df)} rows for {city['city']}. Sleeping for 10 Seconds…\")\n",
    "    print()\n",
    "    print(\"-\"*50)\n",
    "    time.sleep(10)"
   ]
  },
  {
   "cell_type": "markdown",
   "id": "e108a01c",
   "metadata": {},
   "source": [
    "# fetch initial energy data"
   ]
  },
  {
   "cell_type": "code",
   "execution_count": 6,
   "id": "0b58b3ba",
   "metadata": {},
   "outputs": [
    {
     "name": "stdout",
     "output_type": "stream",
     "text": [
      "[{'city': 'New York', 'state': 'New York', 'station': 'GHCND:USW00094728', 'region': 'NYIS', 'timezone': 'Eastern'}, {'city': 'Chicago', 'state': 'Illinois', 'station': 'GHCND:USW00094846', 'region': 'PJM', 'timezone': 'Eastern'}, {'city': 'Houston', 'state': 'Texas', 'station': 'GHCND:USW00012960', 'region': 'ERCO', 'timezone': 'Central'}, {'city': 'Phoenix', 'state': 'Arizona', 'station': 'GHCND:USW00023183', 'region': 'AZPS', 'timezone': 'Mountain'}, {'city': 'Seattle', 'state': 'Washington', 'station': 'GHCND:USW00024233', 'region': 'SCL', 'timezone': 'Pacific'}]\n"
     ]
    }
   ],
   "source": [
    "print(cities_list)"
   ]
  },
  {
   "cell_type": "markdown",
   "id": "88d396ec",
   "metadata": {},
   "source": [
    "the idea is to extract the demand and the net generation seperately and merge both data"
   ]
  },
  {
   "cell_type": "code",
   "execution_count": 7,
   "id": "be7e9cef",
   "metadata": {},
   "outputs": [
    {
     "name": "stdout",
     "output_type": "stream",
     "text": [
      "Fetching data for New York...\n",
      "Saved 147 rows for New York and D. Sleeping for 10 Seconds…\n",
      "\n",
      "Saved 147 rows for New York and NG. Sleeping for 10 Seconds…\n",
      "\n",
      "--------------------------------------------------\n",
      "Fetching data for Chicago...\n",
      "Saved 147 rows for Chicago and D. Sleeping for 10 Seconds…\n",
      "\n",
      "Saved 147 rows for Chicago and NG. Sleeping for 10 Seconds…\n",
      "\n",
      "--------------------------------------------------\n",
      "Fetching data for Houston...\n",
      "Saved 147 rows for Houston and D. Sleeping for 10 Seconds…\n",
      "\n",
      "Saved 147 rows for Houston and NG. Sleeping for 10 Seconds…\n",
      "\n",
      "--------------------------------------------------\n",
      "Fetching data for Phoenix...\n",
      "Saved 147 rows for Phoenix and D. Sleeping for 10 Seconds…\n",
      "\n",
      "Saved 147 rows for Phoenix and NG. Sleeping for 10 Seconds…\n",
      "\n",
      "--------------------------------------------------\n",
      "Fetching data for Seattle...\n",
      "Saved 147 rows for Seattle and D. Sleeping for 10 Seconds…\n",
      "\n",
      "Saved 147 rows for Seattle and NG. Sleeping for 10 Seconds…\n",
      "\n",
      "--------------------------------------------------\n"
     ]
    }
   ],
   "source": [
    "output_file = \"../data/raw/all_energy.csv\"\n",
    "first = True    #write header only for the first file\n",
    "data = None\n",
    "\n",
    "for city in cities_list:\n",
    "    print(f\"Fetching data for {city[\"city\"]}...\")\n",
    "    \n",
    "    region = city[\"region\"]\n",
    "    timezone = city[\"timezone\"]\n",
    "    start = \"2025-03-01\"\n",
    "    end = \"2025-07-26\"\n",
    "    types = [\"D\", \"NG\"]\n",
    "    for type in types:\n",
    "        energy_result = fetch_energy_data(region=region, types=type, timezone=timezone, start=start, end=end)\n",
    "        data = energy_result[\"response\"][\"data\"]\n",
    "        \n",
    "\n",
    "\n",
    "        df = pd.DataFrame(data)\n",
    "        df[\"city\"] = city[\"city\"]\n",
    "        df[\"state\"] = city[\"state\"]\n",
    "    \n",
    "        # Write to CSV with mode (w) at the first loop, then (a) for subsequent loops\n",
    "        df.to_csv(output_file,\n",
    "            mode = \"w\" if first else \"a\",\n",
    "            header = first,\n",
    "            index = False)\n",
    "        first = False\n",
    "    \n",
    "        print(f\"Saved {len(df)} rows for {city['city']} and {type}. Sleeping for 10 Seconds…\")\n",
    "        print()\n",
    "    print(\"-\"*50)\n",
    "    time.sleep(10)"
   ]
  },
  {
   "cell_type": "code",
   "execution_count": null,
   "id": "4bc51f19",
   "metadata": {},
   "outputs": [
    {
     "name": "stdout",
     "output_type": "stream",
     "text": [
      "promise\n"
     ]
    }
   ],
   "source": []
  },
  {
   "cell_type": "code",
   "execution_count": null,
   "id": "ff143720",
   "metadata": {},
   "outputs": [],
   "source": []
  }
 ],
 "metadata": {
  "kernelspec": {
   "display_name": "project1-energy-analysis (3.12.10)",
   "language": "python",
   "name": "python3"
  },
  "language_info": {
   "codemirror_mode": {
    "name": "ipython",
    "version": 3
   },
   "file_extension": ".py",
   "mimetype": "text/x-python",
   "name": "python",
   "nbconvert_exporter": "python",
   "pygments_lexer": "ipython3",
   "version": "3.12.10"
  }
 },
 "nbformat": 4,
 "nbformat_minor": 5
}
